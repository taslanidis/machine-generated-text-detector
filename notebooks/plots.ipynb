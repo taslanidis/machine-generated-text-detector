{
 "cells": [
  {
   "cell_type": "code",
   "execution_count": 1,
   "metadata": {},
   "outputs": [
    {
     "name": "stdout",
     "output_type": "stream",
     "text": [
      "/home/gergopool/work/uva/dl4nlp/machine-generated-text-detector\n"
     ]
    }
   ],
   "source": [
    "%cd .."
   ]
  },
  {
   "cell_type": "code",
   "execution_count": 15,
   "metadata": {},
   "outputs": [],
   "source": [
    "import pandas as pd\n",
    "import numpy as np\n",
    "from matplotlib import pyplot as plt\n",
    "from IPython.display import display\n",
    "\n",
    "%matplotlib inline"
   ]
  },
  {
   "cell_type": "code",
   "execution_count": 4,
   "metadata": {},
   "outputs": [],
   "source": [
    "orig_df = pd.read_csv(\"results/results.csv\")"
   ]
  },
  {
   "cell_type": "code",
   "execution_count": 5,
   "metadata": {},
   "outputs": [
    {
     "data": {
      "text/html": [
       "<div>\n",
       "<style scoped>\n",
       "    .dataframe tbody tr th:only-of-type {\n",
       "        vertical-align: middle;\n",
       "    }\n",
       "\n",
       "    .dataframe tbody tr th {\n",
       "        vertical-align: top;\n",
       "    }\n",
       "\n",
       "    .dataframe thead th {\n",
       "        text-align: right;\n",
       "    }\n",
       "</style>\n",
       "<table border=\"1\" class=\"dataframe\">\n",
       "  <thead>\n",
       "    <tr style=\"text-align: right;\">\n",
       "      <th></th>\n",
       "      <th>train_data</th>\n",
       "      <th>train_llm</th>\n",
       "      <th>test_data</th>\n",
       "      <th>test_llm</th>\n",
       "      <th>split</th>\n",
       "      <th>size</th>\n",
       "      <th>seed</th>\n",
       "      <th>accuracy</th>\n",
       "      <th>auc</th>\n",
       "    </tr>\n",
       "  </thead>\n",
       "  <tbody>\n",
       "    <tr>\n",
       "      <th>0</th>\n",
       "      <td>wikitext</td>\n",
       "      <td>llama3</td>\n",
       "      <td>wikitext</td>\n",
       "      <td>llama3</td>\n",
       "      <td>train</td>\n",
       "      <td>m</td>\n",
       "      <td>2</td>\n",
       "      <td>0.997500</td>\n",
       "      <td>0.999955</td>\n",
       "    </tr>\n",
       "    <tr>\n",
       "      <th>1</th>\n",
       "      <td>wikitext</td>\n",
       "      <td>llama3</td>\n",
       "      <td>wikitext</td>\n",
       "      <td>llama3</td>\n",
       "      <td>val</td>\n",
       "      <td>m</td>\n",
       "      <td>2</td>\n",
       "      <td>0.998099</td>\n",
       "      <td>0.999949</td>\n",
       "    </tr>\n",
       "    <tr>\n",
       "      <th>2</th>\n",
       "      <td>wikitext</td>\n",
       "      <td>llama3</td>\n",
       "      <td>wikitext</td>\n",
       "      <td>llama3</td>\n",
       "      <td>test</td>\n",
       "      <td>m</td>\n",
       "      <td>2</td>\n",
       "      <td>0.998227</td>\n",
       "      <td>0.999985</td>\n",
       "    </tr>\n",
       "    <tr>\n",
       "      <th>3</th>\n",
       "      <td>wikitext</td>\n",
       "      <td>llama3</td>\n",
       "      <td>wikitext</td>\n",
       "      <td>mistral7b</td>\n",
       "      <td>test</td>\n",
       "      <td>m</td>\n",
       "      <td>2</td>\n",
       "      <td>0.978723</td>\n",
       "      <td>0.990338</td>\n",
       "    </tr>\n",
       "    <tr>\n",
       "      <th>4</th>\n",
       "      <td>wikitext</td>\n",
       "      <td>llama3</td>\n",
       "      <td>followupqg</td>\n",
       "      <td>mistral7b</td>\n",
       "      <td>test</td>\n",
       "      <td>m</td>\n",
       "      <td>2</td>\n",
       "      <td>0.489297</td>\n",
       "      <td>0.360674</td>\n",
       "    </tr>\n",
       "  </tbody>\n",
       "</table>\n",
       "</div>"
      ],
      "text/plain": [
       "  train_data train_llm   test_data   test_llm  split size  seed  accuracy  \\\n",
       "0   wikitext    llama3    wikitext     llama3  train    m     2  0.997500   \n",
       "1   wikitext    llama3    wikitext     llama3    val    m     2  0.998099   \n",
       "2   wikitext    llama3    wikitext     llama3   test    m     2  0.998227   \n",
       "3   wikitext    llama3    wikitext  mistral7b   test    m     2  0.978723   \n",
       "4   wikitext    llama3  followupqg  mistral7b   test    m     2  0.489297   \n",
       "\n",
       "        auc  \n",
       "0  0.999955  \n",
       "1  0.999949  \n",
       "2  0.999985  \n",
       "3  0.990338  \n",
       "4  0.360674  "
      ]
     },
     "execution_count": 5,
     "metadata": {},
     "output_type": "execute_result"
    }
   ],
   "source": [
    "df.head()"
   ]
  },
  {
   "cell_type": "markdown",
   "metadata": {},
   "source": [
    "## Cross-dataset, same model"
   ]
  },
  {
   "cell_type": "code",
   "execution_count": 16,
   "metadata": {},
   "outputs": [
    {
     "name": "stdout",
     "output_type": "stream",
     "text": [
      "mistral7b\n"
     ]
    },
    {
     "data": {
      "text/html": [
       "<div>\n",
       "<style scoped>\n",
       "    .dataframe tbody tr th:only-of-type {\n",
       "        vertical-align: middle;\n",
       "    }\n",
       "\n",
       "    .dataframe tbody tr th {\n",
       "        vertical-align: top;\n",
       "    }\n",
       "\n",
       "    .dataframe thead th {\n",
       "        text-align: right;\n",
       "    }\n",
       "</style>\n",
       "<table border=\"1\" class=\"dataframe\">\n",
       "  <thead>\n",
       "    <tr style=\"text-align: right;\">\n",
       "      <th>test_data</th>\n",
       "      <th>followupqg</th>\n",
       "      <th>squad</th>\n",
       "      <th>wikitext</th>\n",
       "    </tr>\n",
       "    <tr>\n",
       "      <th>train_data</th>\n",
       "      <th></th>\n",
       "      <th></th>\n",
       "      <th></th>\n",
       "    </tr>\n",
       "  </thead>\n",
       "  <tbody>\n",
       "    <tr>\n",
       "      <th>followupqg</th>\n",
       "      <td>0.9989</td>\n",
       "      <td>0.5230</td>\n",
       "      <td>0.9364</td>\n",
       "    </tr>\n",
       "    <tr>\n",
       "      <th>squad</th>\n",
       "      <td>0.6576</td>\n",
       "      <td>0.9821</td>\n",
       "      <td>0.9724</td>\n",
       "    </tr>\n",
       "    <tr>\n",
       "      <th>wikitext</th>\n",
       "      <td>0.3877</td>\n",
       "      <td>0.5474</td>\n",
       "      <td>0.9957</td>\n",
       "    </tr>\n",
       "  </tbody>\n",
       "</table>\n",
       "</div>"
      ],
      "text/plain": [
       "test_data   followupqg   squad  wikitext\n",
       "train_data                              \n",
       "followupqg      0.9989  0.5230    0.9364\n",
       "squad           0.6576  0.9821    0.9724\n",
       "wikitext        0.3877  0.5474    0.9957"
      ]
     },
     "metadata": {},
     "output_type": "display_data"
    },
    {
     "name": "stdout",
     "output_type": "stream",
     "text": [
      "llama3\n"
     ]
    },
    {
     "data": {
      "text/html": [
       "<div>\n",
       "<style scoped>\n",
       "    .dataframe tbody tr th:only-of-type {\n",
       "        vertical-align: middle;\n",
       "    }\n",
       "\n",
       "    .dataframe tbody tr th {\n",
       "        vertical-align: top;\n",
       "    }\n",
       "\n",
       "    .dataframe thead th {\n",
       "        text-align: right;\n",
       "    }\n",
       "</style>\n",
       "<table border=\"1\" class=\"dataframe\">\n",
       "  <thead>\n",
       "    <tr style=\"text-align: right;\">\n",
       "      <th>test_data</th>\n",
       "      <th>squad</th>\n",
       "      <th>wikitext</th>\n",
       "    </tr>\n",
       "    <tr>\n",
       "      <th>train_data</th>\n",
       "      <th></th>\n",
       "      <th></th>\n",
       "    </tr>\n",
       "  </thead>\n",
       "  <tbody>\n",
       "    <tr>\n",
       "      <th>squad</th>\n",
       "      <td>0.9545</td>\n",
       "      <td>0.8287</td>\n",
       "    </tr>\n",
       "    <tr>\n",
       "      <th>wikitext</th>\n",
       "      <td>0.6363</td>\n",
       "      <td>1.0000</td>\n",
       "    </tr>\n",
       "  </tbody>\n",
       "</table>\n",
       "</div>"
      ],
      "text/plain": [
       "test_data    squad  wikitext\n",
       "train_data                  \n",
       "squad       0.9545    0.8287\n",
       "wikitext    0.6363    1.0000"
      ]
     },
     "metadata": {},
     "output_type": "display_data"
    }
   ],
   "source": [
    "df = orig_df.copy()\n",
    "w1 = df.train_llm == df.test_llm\n",
    "w2 = df.split == \"test\"\n",
    "w = w1 & w2\n",
    "df = df[w]\n",
    "\n",
    "for model in ['mistral7b', 'llama3', \"openai\"]:\n",
    "    w = df.train_llm == model\n",
    "    subdf = df[w]\n",
    "    print(model)\n",
    "    display(subdf.groupby([\"train_data\", \"test_data\"])['auc'].mean().unstack().round(4))"
   ]
  },
  {
   "cell_type": "markdown",
   "metadata": {},
   "source": [
    "## Cross-model, same dataset"
   ]
  },
  {
   "cell_type": "code",
   "execution_count": 17,
   "metadata": {},
   "outputs": [
    {
     "name": "stdout",
     "output_type": "stream",
     "text": [
      "followupqg\n"
     ]
    },
    {
     "data": {
      "text/html": [
       "<div>\n",
       "<style scoped>\n",
       "    .dataframe tbody tr th:only-of-type {\n",
       "        vertical-align: middle;\n",
       "    }\n",
       "\n",
       "    .dataframe tbody tr th {\n",
       "        vertical-align: top;\n",
       "    }\n",
       "\n",
       "    .dataframe thead th {\n",
       "        text-align: right;\n",
       "    }\n",
       "</style>\n",
       "<table border=\"1\" class=\"dataframe\">\n",
       "  <thead>\n",
       "    <tr style=\"text-align: right;\">\n",
       "      <th>test_llm</th>\n",
       "      <th>mistral7b</th>\n",
       "    </tr>\n",
       "    <tr>\n",
       "      <th>train_llm</th>\n",
       "      <th></th>\n",
       "    </tr>\n",
       "  </thead>\n",
       "  <tbody>\n",
       "    <tr>\n",
       "      <th>mistral7b</th>\n",
       "      <td>0.9989</td>\n",
       "    </tr>\n",
       "  </tbody>\n",
       "</table>\n",
       "</div>"
      ],
      "text/plain": [
       "test_llm   mistral7b\n",
       "train_llm           \n",
       "mistral7b     0.9989"
      ]
     },
     "metadata": {},
     "output_type": "display_data"
    },
    {
     "name": "stdout",
     "output_type": "stream",
     "text": [
      "squad\n"
     ]
    },
    {
     "data": {
      "text/html": [
       "<div>\n",
       "<style scoped>\n",
       "    .dataframe tbody tr th:only-of-type {\n",
       "        vertical-align: middle;\n",
       "    }\n",
       "\n",
       "    .dataframe tbody tr th {\n",
       "        vertical-align: top;\n",
       "    }\n",
       "\n",
       "    .dataframe thead th {\n",
       "        text-align: right;\n",
       "    }\n",
       "</style>\n",
       "<table border=\"1\" class=\"dataframe\">\n",
       "  <thead>\n",
       "    <tr style=\"text-align: right;\">\n",
       "      <th>test_llm</th>\n",
       "      <th>llama3</th>\n",
       "      <th>mistral7b</th>\n",
       "    </tr>\n",
       "    <tr>\n",
       "      <th>train_llm</th>\n",
       "      <th></th>\n",
       "      <th></th>\n",
       "    </tr>\n",
       "  </thead>\n",
       "  <tbody>\n",
       "    <tr>\n",
       "      <th>llama3</th>\n",
       "      <td>0.9545</td>\n",
       "      <td>0.8034</td>\n",
       "    </tr>\n",
       "    <tr>\n",
       "      <th>mistral7b</th>\n",
       "      <td>0.8160</td>\n",
       "      <td>0.9821</td>\n",
       "    </tr>\n",
       "  </tbody>\n",
       "</table>\n",
       "</div>"
      ],
      "text/plain": [
       "test_llm   llama3  mistral7b\n",
       "train_llm                   \n",
       "llama3     0.9545     0.8034\n",
       "mistral7b  0.8160     0.9821"
      ]
     },
     "metadata": {},
     "output_type": "display_data"
    },
    {
     "name": "stdout",
     "output_type": "stream",
     "text": [
      "wikitext\n"
     ]
    },
    {
     "data": {
      "text/html": [
       "<div>\n",
       "<style scoped>\n",
       "    .dataframe tbody tr th:only-of-type {\n",
       "        vertical-align: middle;\n",
       "    }\n",
       "\n",
       "    .dataframe tbody tr th {\n",
       "        vertical-align: top;\n",
       "    }\n",
       "\n",
       "    .dataframe thead th {\n",
       "        text-align: right;\n",
       "    }\n",
       "</style>\n",
       "<table border=\"1\" class=\"dataframe\">\n",
       "  <thead>\n",
       "    <tr style=\"text-align: right;\">\n",
       "      <th>test_llm</th>\n",
       "      <th>llama3</th>\n",
       "      <th>mistral7b</th>\n",
       "    </tr>\n",
       "    <tr>\n",
       "      <th>train_llm</th>\n",
       "      <th></th>\n",
       "      <th></th>\n",
       "    </tr>\n",
       "  </thead>\n",
       "  <tbody>\n",
       "    <tr>\n",
       "      <th>llama3</th>\n",
       "      <td>1.0000</td>\n",
       "      <td>0.9904</td>\n",
       "    </tr>\n",
       "    <tr>\n",
       "      <th>mistral7b</th>\n",
       "      <td>0.9997</td>\n",
       "      <td>0.9957</td>\n",
       "    </tr>\n",
       "  </tbody>\n",
       "</table>\n",
       "</div>"
      ],
      "text/plain": [
       "test_llm   llama3  mistral7b\n",
       "train_llm                   \n",
       "llama3     1.0000     0.9904\n",
       "mistral7b  0.9997     0.9957"
      ]
     },
     "metadata": {},
     "output_type": "display_data"
    }
   ],
   "source": [
    "df = orig_df.copy()\n",
    "w1 = df.train_data == df.test_data\n",
    "w2 = df.split == \"test\"\n",
    "w = w1 & w2\n",
    "df = df[w]\n",
    "\n",
    "for dataset in ['followupqg', 'squad', 'wikitext']:\n",
    "    w = df.train_data == dataset\n",
    "    subdf = df[w]\n",
    "    print(dataset)\n",
    "    display(subdf.groupby([\"train_llm\", \"test_llm\"])['auc'].mean().unstack().round(4))"
   ]
  }
 ],
 "metadata": {
  "kernelspec": {
   "display_name": "torch",
   "language": "python",
   "name": "python3"
  },
  "language_info": {
   "codemirror_mode": {
    "name": "ipython",
    "version": 3
   },
   "file_extension": ".py",
   "mimetype": "text/x-python",
   "name": "python",
   "nbconvert_exporter": "python",
   "pygments_lexer": "ipython3",
   "version": "3.11.9"
  }
 },
 "nbformat": 4,
 "nbformat_minor": 2
}
